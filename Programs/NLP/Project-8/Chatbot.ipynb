{
 "cells": [
  {
   "cell_type": "code",
   "execution_count": 1,
   "id": "1c0a1320",
   "metadata": {
    "scrolled": true
   },
   "outputs": [
    {
     "name": "stderr",
     "output_type": "stream",
     "text": [
      "[nltk_data] Downloading package punkt to\n",
      "[nltk_data]     C:\\Users\\myaku\\AppData\\Roaming\\nltk_data...\n",
      "[nltk_data]   Package punkt is already up-to-date!\n",
      "[nltk_data] Downloading package averaged_perceptron_tagger to\n",
      "[nltk_data]     C:\\Users\\myaku\\AppData\\Roaming\\nltk_data...\n",
      "[nltk_data]   Package averaged_perceptron_tagger is already up-to-\n",
      "[nltk_data]       date!\n",
      "[nltk_data] Downloading package stopwords to\n",
      "[nltk_data]     C:\\Users\\myaku\\AppData\\Roaming\\nltk_data...\n",
      "[nltk_data]   Package stopwords is already up-to-date!\n"
     ]
    },
    {
     "data": {
      "text/plain": [
       "True"
      ]
     },
     "execution_count": 1,
     "metadata": {},
     "output_type": "execute_result"
    }
   ],
   "source": [
    "'''\n",
    "Movie and Book Chatbot\n",
    "\n",
    "Keeps track of your movies and books, their ratings, and outputs recommendations based on NLP\n",
    "'''\n",
    "\n",
    "import nltk\n",
    "import re\n",
    "import pickle\n",
    "from datetime import datetime\n",
    "from nltk.tag import pos_tag\n",
    "from nltk.tokenize import word_tokenize\n",
    "from collections import defaultdict\n",
    "\n",
    "nltk.download('punkt')\n",
    "nltk.download('averaged_perceptron_tagger')\n",
    "nltk.download('stopwords')"
   ]
  },
  {
   "cell_type": "code",
   "execution_count": 2,
   "id": "cf550642",
   "metadata": {},
   "outputs": [],
   "source": [
    "def check_strings_present(string_list, text):\n",
    "    for string in string_list:\n",
    "        if string not in text.lower():\n",
    "            return False\n",
    "    return True"
   ]
  },
  {
   "cell_type": "code",
   "execution_count": 3,
   "id": "cd4ed25a",
   "metadata": {},
   "outputs": [],
   "source": [
    "def interact_with_chatbot(assistant, user_id):\n",
    "    print(\"Welcome to the Personal Book and Movie chatbot!\")\n",
    "    print(\"Type 'quit' to exit.\")\n",
    "\n",
    "    while True:\n",
    "        user_input = input(f\"{user_id}: \")\n",
    "        if user_input.lower() == 'quit':\n",
    "            break\n",
    "\n",
    "        response = assistant.respond(user_id, user_input)\n",
    "        print(f\"Assistant: {response}\")\n",
    "\n",
    "    assistant.save_user_data()\n",
    "    print(\"Goodbye!\")"
   ]
  },
  {
   "cell_type": "code",
   "execution_count": 4,
   "id": "6ed6a656",
   "metadata": {},
   "outputs": [],
   "source": [
    "class UserModel:\n",
    "    def __init__(self, name):\n",
    "        self.name = name\n",
    "        self.book_reviews = {}\n",
    "        self.movie_reviews = {}\n",
    "        self.name_prompt = False"
   ]
  },
  {
   "cell_type": "code",
   "execution_count": 5,
   "id": "616b4c34",
   "metadata": {},
   "outputs": [],
   "source": [
    "class PersonalAssistant:\n",
    "    def __init__(self, user_data_file):\n",
    "        self.user_data_file = user_data_file\n",
    "        self.users = self.load_user_data()\n",
    "    \n",
    "    def load_user_data(self):\n",
    "        try:\n",
    "            with open(self.user_data_file, 'rb') as f:\n",
    "                return pickle.load(f)\n",
    "        except (FileNotFoundError, EOFError):\n",
    "            return {}\n",
    "\n",
    "    def save_user_data(self):\n",
    "        with open(self.user_data_file, 'wb') as f:\n",
    "            pickle.dump(self.users, f)\n",
    "\n",
    "    def get_user_model(self, user_id):\n",
    "        if user_id not in self.users:\n",
    "            self.users[user_id] = UserModel(\"unknown\")\n",
    "        return self.users[user_id]\n",
    "    \n",
    "    def update_user_model(self, user_model, text):\n",
    "        \n",
    "#         if \"name\" in text.lower():\n",
    "#             tagged_text = pos_tag(word_tokenize(text))\n",
    "#             for word, pos in tagged_text:\n",
    "#                 if pos == 'NNP':\n",
    "#                     user_model.name = word.capitalize()\n",
    "\n",
    "        ratings = re.findall(r'I rate (book|movie) (\\w+) (\\d+(\\.\\d{1,2})?)/10', text, re.IGNORECASE)\n",
    "        for category, item, rating in ratings:\n",
    "            if category.lower() == 'book':\n",
    "                user_model.book_ratings[item.lower()] = float(rating)\n",
    "            elif category.lower() == 'movie':\n",
    "                user_model.movie_ratings[item.lower()] = float(rating)\n",
    "\n",
    "    def respond(self, user_id, text):\n",
    "        user_model = self.get_user_model(user_id)\n",
    "        self.update_user_model(user_model, text)\n",
    "        \n",
    "        if user_model.name_prompt:\n",
    "            tagged_text = pos_tag(word_tokenize(text))\n",
    "            for word, pos in tagged_text:\n",
    "                if pos == 'NNP':\n",
    "                    user_model.name = word.capitalize()\n",
    "            if user_model.name == 'unknown':\n",
    "                user_model.name = text\n",
    "            user_model.name_prompt = False\n",
    "            return f'Alright, nice to meet you {user_model.name}'\n",
    "        \n",
    "        if user_model.name == 'unknown':\n",
    "            user_model.name_prompt = True\n",
    "            return f\"Hello!, I've noticed I don't know your name in my knowledge base. Could you provide it so I know how to address you?\"\n",
    "            \n",
    "        if check_strings_present(['change', 'name'], text):\n",
    "            user_model.name_prompt = True\n",
    "            return f'Alright, let me know what you want to change your name to'\n",
    "            \n",
    "        if check_strings_present(['what', 'name'], text):\n",
    "            return f\"Your name is {user_model.name}\"      \n",
    "            \n",
    "        if \"ratings\" in text.lower():\n",
    "            category = re.search(r'ratings for (\\w+)', text, re.IGNORECASE)\n",
    "            if category and category.group(1).lower() in ['books', 'movies']:\n",
    "                if category.group(1).lower() == 'books':\n",
    "                    items = user_model.book_ratings\n",
    "                else:\n",
    "                    items = user_model.movie_ratings\n",
    "                response = f\"{user_model.name}, your ratings for {category.group(1).lower()} are:\\n\"\n",
    "                for item, rating in items.items():\n",
    "                    response += f\"- {item}: {rating}/10\\n\"\n",
    "                return response\n",
    "            return f\"I couldn't find any ratings for {category.group(1).lower()} for you, {user_model.name}.\"\n",
    "            \n",
    "        if any(user_input in text for user_input in ['hello', 'hi', 'greetings']):\n",
    "            return f\"Hello, {user_model.name}! How can I help you today?\" \n",
    "\n",
    "        return f\"I'm not sure what you're asking, {user_model.name}. Could you please rephrase?\""
   ]
  },
  {
   "cell_type": "code",
   "execution_count": null,
   "id": "06db83f3",
   "metadata": {},
   "outputs": [
    {
     "name": "stdout",
     "output_type": "stream",
     "text": [
      "Welcome to the Personal Book and Movie chatbot!\n",
      "Type 'quit' to exit.\n",
      "Matthew Y: test\n",
      "Assistant: Hello!, I've noticed I don't know your name in my knowledge base. Could you provide it so I know how to address you?\n",
      "Matthew Y: Matthew\n",
      "Assistant: Alright, nice to meet you Matthew\n",
      "Matthew Y: change my name to Drew\n",
      "Assistant: Alright, let me know what you want to change your name to\n",
      "Matthew Y: Drew\n",
      "Assistant: Alright, nice to meet you Drew\n"
     ]
    }
   ],
   "source": [
    "user_id = \"Matthew Y\"\n",
    "user_data_file = user_id + '.pkl'\n",
    "assistant = PersonalAssistant(user_data_file)\n",
    "\n",
    "interact_with_chatbot(assistant, user_id)"
   ]
  },
  {
   "cell_type": "code",
   "execution_count": null,
   "id": "13f4c060",
   "metadata": {},
   "outputs": [],
   "source": []
  }
 ],
 "metadata": {
  "kernelspec": {
   "display_name": "Python 3 (ipykernel)",
   "language": "python",
   "name": "python3"
  },
  "language_info": {
   "codemirror_mode": {
    "name": "ipython",
    "version": 3
   },
   "file_extension": ".py",
   "mimetype": "text/x-python",
   "name": "python",
   "nbconvert_exporter": "python",
   "pygments_lexer": "ipython3",
   "version": "3.9.13"
  }
 },
 "nbformat": 4,
 "nbformat_minor": 5
}
