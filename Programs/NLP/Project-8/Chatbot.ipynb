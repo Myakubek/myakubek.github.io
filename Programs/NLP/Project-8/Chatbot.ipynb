{
 "cells": [
  {
   "cell_type": "code",
   "execution_count": 1,
   "id": "1c0a1320",
   "metadata": {},
   "outputs": [
    {
     "name": "stderr",
     "output_type": "stream",
     "text": [
      "[nltk_data] Error loading punkt: <urlopen error [Errno 11001]\n",
      "[nltk_data]     getaddrinfo failed>\n",
      "[nltk_data] Error loading averaged_perceptron_tagger: <urlopen error\n",
      "[nltk_data]     [Errno 11001] getaddrinfo failed>\n",
      "[nltk_data] Error loading stopwords: <urlopen error [Errno 11001]\n",
      "[nltk_data]     getaddrinfo failed>\n"
     ]
    },
    {
     "data": {
      "text/plain": [
       "False"
      ]
     },
     "execution_count": 1,
     "metadata": {},
     "output_type": "execute_result"
    }
   ],
   "source": [
    "'''\n",
    "Movie and Book Chatbot\n",
    "\n",
    "Keeps track of your movies and books, their ratings, and outputs recommendations based on NLP\n",
    "'''\n",
    "\n",
    "import nltk\n",
    "import re\n",
    "import pickle\n",
    "from datetime import datetime\n",
    "from nltk.tag import pos_tag\n",
    "from nltk.tokenize import word_tokenize\n",
    "from collections import defaultdict\n",
    "\n",
    "nltk.download('punkt')\n",
    "nltk.download('averaged_perceptron_tagger')\n",
    "nltk.download('stopwords')"
   ]
  },
  {
   "cell_type": "code",
   "execution_count": 2,
   "id": "cd4ed25a",
   "metadata": {},
   "outputs": [],
   "source": [
    "def interact_with_chatbot(assistant, user_id):\n",
    "    print(\"Welcome to the Personal Book and Movie chatbot!\")\n",
    "    print(\"Type 'quit' to exit.\")\n",
    "\n",
    "    while True:\n",
    "        user_input = input(f\"{user_id}: \")\n",
    "        if user_input.lower() == 'quit':\n",
    "            break\n",
    "\n",
    "        response = assistant.respond(user_id, user_input)\n",
    "        print(f\"Assistant: {response}\")\n",
    "\n",
    "    assistant.save_user_data()\n",
    "    print(\"Goodbye!\")"
   ]
  },
  {
   "cell_type": "code",
   "execution_count": 3,
   "id": "6ed6a656",
   "metadata": {},
   "outputs": [],
   "source": [
    "class UserModel:\n",
    "    def __init__(self, name):\n",
    "        self.name = name\n",
    "        self.info = {}\n",
    "        self.likes = {}\n",
    "        self.dislikes = {}\n",
    "        self.events = []"
   ]
  },
  {
   "cell_type": "code",
   "execution_count": 4,
   "id": "616b4c34",
   "metadata": {},
   "outputs": [
    {
     "name": "stderr",
     "output_type": "stream",
     "text": [
      "<>:52: SyntaxWarning: \"is\" with a literal. Did you mean \"==\"?\n",
      "<>:52: SyntaxWarning: \"is\" with a literal. Did you mean \"==\"?\n",
      "C:\\Users\\myaku\\AppData\\Local\\Temp\\ipykernel_7752\\4203032345.py:52: SyntaxWarning: \"is\" with a literal. Did you mean \"==\"?\n",
      "  if user_model.name is 'unknown':\n"
     ]
    }
   ],
   "source": [
    "class PersonalAssistant:\n",
    "    def __init__(self, user_data_file):\n",
    "        self.user_data_file = user_data_file\n",
    "        self.users = self.load_user_data()\n",
    "    \n",
    "    def load_user_data(self):\n",
    "        try:\n",
    "            with open(self.user_data_file, 'rb') as f:\n",
    "                return pickle.load(f)\n",
    "        except (FileNotFoundError, EOFError):\n",
    "            return {}\n",
    "\n",
    "    def save_user_data(self):\n",
    "        with open(self.user_data_file, 'wb') as f:\n",
    "            pickle.dump(self.users, f)\n",
    "\n",
    "    def get_user_model(self, user_id):\n",
    "        if user_id not in self.users:\n",
    "            self.users[user_id] = UserModel(\"unknown\")\n",
    "        return self.users[user_id]\n",
    "    \n",
    "    def update_user_model(self, user_model, text):\n",
    "        \n",
    "        if \"name\" in text.lower():\n",
    "            tagged_text = pos_tag(word_tokenize(text))\n",
    "            for word, pos in tagged_text:\n",
    "                if pos == 'NNP':\n",
    "                    user_model.name = word.capitalize()\n",
    "\n",
    "        likes = re.findall(r'I like (\\w+)', text, re.IGNORECASE)\n",
    "        for like in likes:\n",
    "            category, item = self.get_item_category(like)\n",
    "            user_model.likes.setdefault(category, []).append(item)\n",
    "\n",
    "        dislikes = re.findall(r'I dislike (\\w+)', text, re.IGNORECASE)\n",
    "        for dislike in dislikes:\n",
    "            category, item = self.get_item_category(dislike)\n",
    "            user_model.dislikes.setdefault(category, []).append(item)\n",
    "            \n",
    "    def get_item_category(self, item):\n",
    "        if item.lower() in [\"book\", \"movie\"]:\n",
    "            return \"entertainment\", item.lower()\n",
    "        return \"other\", item.lower()\n",
    "\n",
    "    def respond(self, user_id, text):\n",
    "        user_model = self.get_user_model(user_id)\n",
    "        self.update_user_model(user_model, text)\n",
    "        \n",
    "        if 'what is my name' in text.lower():\n",
    "            return f\"Your name is {user_model.name}\"        \n",
    "\n",
    "        if user_model.name is 'unknown':\n",
    "            return f\"Hello!, I've noticed I don't know your name in my knowledge base. Could you provide it so I know how to address you?\"\n",
    "            \n",
    "\n",
    "            \n",
    "        if any(user_input in text for user_input in ['hello', 'hi', 'greetings']):\n",
    "            return f\"Hello, {user_model.name}! How can I help you today?\" \n",
    "         \n",
    "        if \"name\" in text.lower():\n",
    "            return f\"Hello, {user_model.name}! How can I help you today?\"\n",
    "\n",
    "        if \"like\" in text.lower() or \"dislike\" in text.lower():\n",
    "            return f\"Got it, {user_model.name}. I've updated your preferences.\"\n",
    "\n",
    "        if \"favorite\" in text.lower():\n",
    "            category = re.search(r'favorite (\\w+)', text, re.IGNORECASE)\n",
    "            if category and category.group(1).lower() in user_model.likes:\n",
    "                items = ', '.join(user_model.likes[category.group(1).lower()])\n",
    "                return f\"{user_model.name}, your favorite {category.group(1).lower()} are: {items}\"\n",
    "            return f\"I couldn't find any favorite {category.group(1).lower()} for you, {user_model.name}.\"\n",
    "\n",
    "        return f\"I'm not sure what you're asking, {user_model.name}. Could you please rephrase?\""
   ]
  },
  {
   "cell_type": "code",
   "execution_count": null,
   "id": "06db83f3",
   "metadata": {},
   "outputs": [
    {
     "name": "stdout",
     "output_type": "stream",
     "text": [
      "Welcome to the Personal Book and Movie chatbot!\n",
      "Type 'quit' to exit.\n",
      "Matthew Y: my name is Joe\n",
      "Assistant: Hello, Joe! How can I help you today?\n",
      "Matthew Y: King arthur went on a quest\n",
      "Assistant: I'm not sure what you're asking, Joe. Could you please rephrase?\n",
      "Matthew Y: my name is Matt\n",
      "Assistant: Hello, Matt! How can I help you today?\n",
      "Matthew Y: change my name to Cathryn\n",
      "Assistant: Hello, Matt! How can I help you today?\n",
      "Matthew Y: change my name to cade\n",
      "Assistant: Hello, Matt! How can I help you today?\n",
      "Matthew Y: change my name to Ana\n",
      "Assistant: Hello, Matt! How can I help you today?\n",
      "Matthew Y: name Ana\n",
      "Assistant: Hello, Ana! How can I help you today?\n"
     ]
    }
   ],
   "source": [
    "user_id = \"Matthew Y\"\n",
    "user_data_file = user_id + '.pkl'\n",
    "assistant = PersonalAssistant(user_data_file)\n",
    "\n",
    "interact_with_chatbot(assistant, user_id)"
   ]
  },
  {
   "cell_type": "code",
   "execution_count": null,
   "id": "13f4c060",
   "metadata": {},
   "outputs": [],
   "source": []
  }
 ],
 "metadata": {
  "kernelspec": {
   "display_name": "Python 3 (ipykernel)",
   "language": "python",
   "name": "python3"
  },
  "language_info": {
   "codemirror_mode": {
    "name": "ipython",
    "version": 3
   },
   "file_extension": ".py",
   "mimetype": "text/x-python",
   "name": "python",
   "nbconvert_exporter": "python",
   "pygments_lexer": "ipython3",
   "version": "3.9.13"
  }
 },
 "nbformat": 4,
 "nbformat_minor": 5
}
