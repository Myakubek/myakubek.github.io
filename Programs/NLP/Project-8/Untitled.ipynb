{
 "cells": [
  {
   "cell_type": "code",
   "execution_count": 43,
   "id": "ae389d60",
   "metadata": {},
   "outputs": [
    {
     "name": "stdout",
     "output_type": "stream",
     "text": [
      "Name: Bob, Age: 43, City: Paris\n"
     ]
    }
   ],
   "source": [
    "import pandas as pd\n",
    "import random\n",
    "\n",
    "def get_random_row_as_string(dataframe):\n",
    "    \"\"\"\n",
    "    Returns a randomly selected row from a pandas dataframe as a formatted string.\n",
    "    \n",
    "    Parameters:\n",
    "        dataframe (pandas.DataFrame): The input dataframe to select a random row from.\n",
    "        \n",
    "    Returns:\n",
    "        str: A string representation of the randomly selected row.\n",
    "    \"\"\"\n",
    "    # Select a random row index\n",
    "    random_row_index = random.randint(0, len(dataframe)-1)\n",
    "    \n",
    "    # Get the selected row as a pandas series object\n",
    "    selected_row_series = dataframe.iloc[random_row_index]\n",
    "    \n",
    "    # Convert the pandas series to a dictionary\n",
    "    row_dict = selected_row_series.to_dict()\n",
    "    \n",
    "    # Format the dictionary as a string\n",
    "    row_string = \", \".join([f\"{key}: {value}\" for key, value in row_dict.items()])\n",
    "    \n",
    "    return row_string\n",
    "# Create a sample dataframe\n",
    "data = {\n",
    "    'Name': ['John', 'Alice', 'Bob', 'Emma'],\n",
    "    'Age': [32, 25, 43, 28],\n",
    "    'City': ['New York', 'London', 'Paris', 'Sydney']\n",
    "}\n",
    "df = pd.DataFrame(data)\n",
    "\n",
    "# Get a random row as a string\n",
    "random_row_string = get_random_row_as_string(df)\n",
    "print(random_row_string)\n"
   ]
  },
  {
   "cell_type": "code",
   "execution_count": null,
   "id": "c1effb41",
   "metadata": {},
   "outputs": [],
   "source": []
  }
 ],
 "metadata": {
  "kernelspec": {
   "display_name": "Python 3 (ipykernel)",
   "language": "python",
   "name": "python3"
  },
  "language_info": {
   "codemirror_mode": {
    "name": "ipython",
    "version": 3
   },
   "file_extension": ".py",
   "mimetype": "text/x-python",
   "name": "python",
   "nbconvert_exporter": "python",
   "pygments_lexer": "ipython3",
   "version": "3.9.13"
  }
 },
 "nbformat": 4,
 "nbformat_minor": 5
}
