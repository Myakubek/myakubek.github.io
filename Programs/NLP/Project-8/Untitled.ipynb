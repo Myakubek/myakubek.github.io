{
 "cells": [
  {
   "cell_type": "code",
   "execution_count": 48,
   "id": "a695c601",
   "metadata": {},
   "outputs": [
    {
     "name": "stdout",
     "output_type": "stream",
     "text": [
      "title                 Book D\n",
      "year                    2015\n",
      "author              Author 4\n",
      "rating                   NaN\n",
      "predicted_rating         4.1\n",
      "Name: 3, dtype: object\n"
     ]
    }
   ],
   "source": [
    "import pandas as pd\n",
    "from sklearn.feature_extraction.text import TfidfVectorizer\n",
    "from sklearn.neighbors import KNeighborsRegressor\n",
    "from sklearn.pipeline import Pipeline\n",
    "\n",
    "def recommend_book(book_ratings, book_df):\n",
    "    # Convert the book_ratings dictionary to a DataFrame\n",
    "    ratings_df = pd.DataFrame.from_dict(book_ratings, orient='index', columns=['rating']).reset_index().rename(columns={'index': 'title'})\n",
    "    \n",
    "    # Combine the book_ratings and book_df DataFrames\n",
    "    combined_df = pd.merge(book_df, ratings_df, on='title', how='left')\n",
    "    \n",
    "    # Split the DataFrame into train and test sets\n",
    "    train_df = combined_df[~combined_df['rating'].isna()]\n",
    "    test_df = combined_df[combined_df['rating'].isna()].copy()  # Use copy() method to create an independent DataFrame\n",
    "    \n",
    "    # Create a pipeline for the KNN regressor\n",
    "    pipeline = Pipeline([\n",
    "        ('tfidf', TfidfVectorizer()),\n",
    "        ('knn', KNeighborsRegressor(n_neighbors=3))\n",
    "    ])\n",
    "    \n",
    "    # Train the KNN regressor\n",
    "    pipeline.fit(train_df['title'], train_df['rating'])\n",
    "    \n",
    "    # Predict ratings for the test set\n",
    "    test_df['predicted_rating'] = pipeline.predict(test_df['title'])\n",
    "    \n",
    "    # Find the book with the highest predicted rating\n",
    "    recommended_book = test_df.loc[test_df['predicted_rating'].idxmax()]\n",
    "    \n",
    "    return recommended_book\n",
    "\n",
    "\n",
    "# Example usage:\n",
    "book_ratings = {\n",
    "    'Book A': 4.5,\n",
    "    'Book B': 3.0,\n",
    "    'Book C': 4.8\n",
    "}\n",
    "\n",
    "book_df = pd.DataFrame({\n",
    "    'title': ['Book A', 'Book B', 'Book C', 'Book D', 'Book E'],\n",
    "    'year': [2000, 2005, 2010, 2015, 2020],\n",
    "    'author': ['Author 1', 'Author 2', 'Author 3', 'Author 4', 'Author 5']\n",
    "})\n",
    "\n",
    "recommended_book = recommend_book(book_ratings, book_df)\n",
    "print(recommended_book)\n"
   ]
  },
  {
   "cell_type": "code",
   "execution_count": null,
   "id": "9c4dacc2",
   "metadata": {},
   "outputs": [],
   "source": []
  }
 ],
 "metadata": {
  "kernelspec": {
   "display_name": "Python 3 (ipykernel)",
   "language": "python",
   "name": "python3"
  },
  "language_info": {
   "codemirror_mode": {
    "name": "ipython",
    "version": 3
   },
   "file_extension": ".py",
   "mimetype": "text/x-python",
   "name": "python",
   "nbconvert_exporter": "python",
   "pygments_lexer": "ipython3",
   "version": "3.9.13"
  }
 },
 "nbformat": 4,
 "nbformat_minor": 5
}
