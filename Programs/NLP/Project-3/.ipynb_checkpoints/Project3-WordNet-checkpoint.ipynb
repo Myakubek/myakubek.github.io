{
 "cells": [
  {
   "cell_type": "code",
   "execution_count": 1,
   "id": "e02388d3",
   "metadata": {},
   "outputs": [],
   "source": [
    "import nltk\n",
    "from nltk.corpus import wordnet as wn\n",
    "\n",
    "#If download needed\n",
    "#nltk.download('omw-1.4')"
   ]
  },
  {
   "cell_type": "code",
   "execution_count": 2,
   "id": "80b8ad70",
   "metadata": {},
   "outputs": [
    {
     "data": {
      "text/plain": [
       "'\\nWordNet is a large database of a hierarchical organization of words and their relations to other words.\\nIt has useful associated data such as Synsets which are synonyms of the word (car - automobile), glosses\\nwhich are short definitions, and their relations to other words.\\n'"
      ]
     },
     "execution_count": 2,
     "metadata": {},
     "output_type": "execute_result"
    }
   ],
   "source": [
    "#1 - Write a 2-3 sentence summary of WordNet\n",
    "'''\n",
    "WordNet is a large database of a hierarchical organization of words and their relations to other words.\n",
    "It has useful associated data such as Synsets which are synonyms of the word (car - automobile), glosses\n",
    "which are short definitions, and their relations to other words.\n",
    "'''"
   ]
  },
  {
   "cell_type": "code",
   "execution_count": 23,
   "id": "bca59a1b",
   "metadata": {},
   "outputs": [],
   "source": [
    "#2 - Select a noun. Output all synsets\n",
    "dog_synsets = wn.synsets('dog')"
   ]
  },
  {
   "cell_type": "code",
   "execution_count": 25,
   "id": "f061799a",
   "metadata": {},
   "outputs": [
    {
     "name": "stdout",
     "output_type": "stream",
     "text": [
      "definition:  a member of the genus Canis (probably descended from the common wolf) that has been domesticated by man since prehistoric times; occurs in many breeds\n",
      "Examples:  ['the dog barked all night']\n",
      "Lemmas:  [Lemma('dog.n.01.dog'), Lemma('dog.n.01.domestic_dog'), Lemma('dog.n.01.Canis_familiaris')] \n",
      "\n",
      "Synset: dog.n.01 \n",
      "Definition:  a member of the genus Canis (probably descended from the common wolf) that has been domesticated by man since prehistoric times; occurs in many breeds\n",
      "Synset: frump.n.01 \n",
      "Definition:  a dull unattractive unpleasant girl or woman\n",
      "Synset: dog.n.03 \n",
      "Definition:  informal term for a man\n",
      "Synset: cad.n.01 \n",
      "Definition:  someone who is morally reprehensible\n",
      "Synset: frank.n.02 \n",
      "Definition:  a smooth-textured sausage of minced beef or pork usually smoked; often served on a bread roll\n",
      "Synset: pawl.n.01 \n",
      "Definition:  a hinged catch that fits into a notch of a ratchet to move a wheel forward or prevent it from moving backward\n",
      "Synset: andiron.n.01 \n",
      "Definition:  metal supports for logs in a fireplace\n",
      "Synset: chase.v.01 \n",
      "Definition:  go after with the intent to catch\n",
      "\n"
     ]
    },
    {
     "data": {
      "text/plain": [
       "'\\nFor nouns the definition seems like a pretty standard explanation for what the object is,\\nthe example for the noun I used was a list with a single element string which suggests there may be multiple examples for\\nsome words. The Lemmas are all the root of dog but in different forms, with one being the binomial name \"Canis_familiaris\".\\nThe synsets seem to be words that are synonyms that seem to vary in relevance from word to word.\\n'"
      ]
     },
     "execution_count": 25,
     "metadata": {},
     "output_type": "execute_result"
    }
   ],
   "source": [
    "#3 - Select one synset from the list of synsets. Extract its definition, usage examples, and lemmas.\n",
    "synset = dog_synsets[0]\n",
    "\n",
    "print(\"definition: \", synset.definition())\n",
    "print(\"Examples: \", synset.examples())\n",
    "print(\"Lemmas: \", synset.lemmas(), \"\\n\")\n",
    "\n",
    "#From your selected synset, traverse up the WordNet hierarchy as far as you can outputting the synsets as you go.\n",
    "for sense in dog_synsets:\n",
    "    print(\"Synset: \" + sense.name(), \"\\nDefinition: \", sense.definition())\n",
    "print()\n",
    "\n",
    "#Write a few sentences observing the way that WordNet is organized for nouns.\n",
    "'''\n",
    "For nouns the definition seems like a pretty standard explanation for what the object is,\n",
    "the example for the noun I used was a list with a single element string which suggests there may be multiple examples for\n",
    "some words. The Lemmas are all the root of dog but in different forms, with one being the binomial name \"Canis_familiaris\".\n",
    "The synsets seem to be words that are synonyms that seem to vary in relevance from word to word.\n",
    "'''"
   ]
  },
  {
   "cell_type": "code",
   "execution_count": 26,
   "id": "f8eae78f",
   "metadata": {},
   "outputs": [],
   "source": [
    "#4 - Output the following or empty list of DNE: Hypernyms, Hyponyms, Meronyms, Holonyms, Antonym\n"
   ]
  },
  {
   "cell_type": "code",
   "execution_count": 27,
   "id": "cdc9cf66",
   "metadata": {},
   "outputs": [],
   "source": [
    "#5 - Select a verb, output all synsets\n"
   ]
  },
  {
   "cell_type": "code",
   "execution_count": 28,
   "id": "21565f23",
   "metadata": {},
   "outputs": [],
   "source": [
    "#6 - Select one syset from the list of synsets, extract its definition, usage examples, and lemmas\n",
    "\n",
    "#From your selected synset, traverse up the WordNet hierarchy as far as you can outputting the synsets as you go.\n",
    "\n",
    "#Write a few sentences observing the way that WordNet is organized for verbs.\n"
   ]
  },
  {
   "cell_type": "code",
   "execution_count": 29,
   "id": "ae4f70e1",
   "metadata": {},
   "outputs": [],
   "source": [
    "#7 - Use morphy to find as many different forms of the word as you can\n"
   ]
  },
  {
   "cell_type": "code",
   "execution_count": 30,
   "id": "bfd907d7",
   "metadata": {},
   "outputs": [],
   "source": [
    "#8 - Select two words that you think might be similar. Find the specific synsets you are interested in\n",
    "\n",
    "#Run the Wu-Palmer similarity metric and the Lesk algorithm\n",
    "\n",
    "#Write a few sentences with your observations\n"
   ]
  },
  {
   "cell_type": "code",
   "execution_count": 31,
   "id": "e5213e01",
   "metadata": {},
   "outputs": [],
   "source": [
    "#9 - Write a couple of sentences about SentiWordNet, describing its functionality and possible use cases\n",
    "\n",
    "# Select an emotionally charged word. Find its senti-synsets and output the polarity scores for each word\n",
    "\n",
    "# Make up a sentence. Output the polarity for each word in the sentence\n",
    "\n",
    "# Write a couple of sentences about your observations of the scores and the utility of knowing these scores in an NLP application.\n"
   ]
  },
  {
   "cell_type": "code",
   "execution_count": null,
   "id": "88776d11",
   "metadata": {},
   "outputs": [],
   "source": [
    "#10 - Write a couple of sentences about what a collocation is\n",
    "\n",
    "#  Output collocations for text4,the Inaugural corpus.\n",
    "\n",
    "#  Select one of the collocations identified by NLTK. Calculate mutual information.\n",
    "\n",
    "# Write commentary on the results of the mutual information formula and your interpretation. "
   ]
  }
 ],
 "metadata": {
  "kernelspec": {
   "display_name": "Python 3 (ipykernel)",
   "language": "python",
   "name": "python3"
  },
  "language_info": {
   "codemirror_mode": {
    "name": "ipython",
    "version": 3
   },
   "file_extension": ".py",
   "mimetype": "text/x-python",
   "name": "python",
   "nbconvert_exporter": "python",
   "pygments_lexer": "ipython3",
   "version": "3.9.13"
  }
 },
 "nbformat": 4,
 "nbformat_minor": 5
}
